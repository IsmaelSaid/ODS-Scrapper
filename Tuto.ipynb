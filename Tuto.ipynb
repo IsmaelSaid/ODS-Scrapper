{
 "cells": [
  {
   "attachments": {},
   "cell_type": "markdown",
   "metadata": {},
   "source": [
    "# How to use this package"
   ]
  },
  {
   "cell_type": "code",
   "execution_count": 43,
   "metadata": {},
   "outputs": [],
   "source": [
    "import ScrappingPackage\n",
    "from ScrappingPackage.opendatasoftscrapper import Opendatasoftscrapper\n",
    "\n",
    "import pandas as pd  \n",
    "import seaborn as sns\n",
    "import matplotlib.pyplot as plt \n",
    "import tqdm"
   ]
  },
  {
   "cell_type": "code",
   "execution_count": 44,
   "metadata": {},
   "outputs": [
    {
     "data": {
      "text/plain": [
       "<module 'tqdm' from '/home/ismael/.local/lib/python3.10/site-packages/tqdm/__init__.py'>"
      ]
     },
     "execution_count": 44,
     "metadata": {},
     "output_type": "execute_result"
    }
   ],
   "source": [
    "tqdm"
   ]
  },
  {
   "cell_type": "code",
   "execution_count": 36,
   "metadata": {},
   "outputs": [],
   "source": [
    "url_portails = pd.read_csv(\"mini_portails_reference_population.csv\")"
   ]
  },
  {
   "cell_type": "code",
   "execution_count": 47,
   "metadata": {},
   "outputs": [
    {
     "data": {
      "text/plain": [
       "2"
      ]
     },
     "execution_count": 47,
     "metadata": {},
     "output_type": "execute_result"
    }
   ],
   "source": [
    "len(url_portails)"
   ]
  },
  {
   "cell_type": "code",
   "execution_count": 52,
   "metadata": {},
   "outputs": [
    {
     "ename": "TypeError",
     "evalue": "'module' object is not callable",
     "output_type": "error",
     "traceback": [
      "\u001b[0;31m---------------------------------------------------------------------------\u001b[0m",
      "\u001b[0;31mTypeError\u001b[0m                                 Traceback (most recent call last)",
      "Cell \u001b[0;32mIn[52], line 3\u001b[0m\n\u001b[1;32m      1\u001b[0m \u001b[39m# Holds mhs_metrics for all portals\u001b[39;00m\n\u001b[1;32m      2\u001b[0m mhs_metric_results \u001b[39m=\u001b[39m \u001b[39mdict\u001b[39m()\n\u001b[0;32m----> 3\u001b[0m \u001b[39mfor\u001b[39;00m _ , row \u001b[39min\u001b[39;00m tqdm(url_portails\u001b[39m.\u001b[39;49miterrows(),):\n\u001b[1;32m      4\u001b[0m     url \u001b[39m=\u001b[39m row[\u001b[39m'\u001b[39m\u001b[39mlien\u001b[39m\u001b[39m'\u001b[39m]\n\u001b[1;32m      5\u001b[0m     population \u001b[39m=\u001b[39m row[\u001b[39m'\u001b[39m\u001b[39mpopulation\u001b[39m\u001b[39m'\u001b[39m]\n",
      "\u001b[0;31mTypeError\u001b[0m: 'module' object is not callable"
     ]
    }
   ],
   "source": [
    "# Holds mhs_metrics for all portals\n",
    "mhs_metric_results = dict()\n",
    "for _ , row in tqdm(url_portails.iterrows(),):\n",
    "    url = row['lien']\n",
    "    population = row['population']\n",
    "    ods_scrapper = Opendatasoftscrapper(url = url, estimated_population = population)\n",
    "    results = ods_scrapper.get_all_results()\n",
    "    mhs_metric_results[url] = results['mhs_metric']"
   ]
  },
  {
   "cell_type": "code",
   "execution_count": 8,
   "metadata": {},
   "outputs": [
    {
     "data": {
      "text/plain": [
       "{'https://data.regionreunion.com/': 0.00021133056977972852,\n",
       " 'https://opendata.paris.fr/': 0.00015634099891841287}"
      ]
     },
     "execution_count": 8,
     "metadata": {},
     "output_type": "execute_result"
    }
   ],
   "source": [
    "mhs_metric_results"
   ]
  },
  {
   "cell_type": "code",
   "execution_count": 19,
   "metadata": {},
   "outputs": [
    {
     "data": {
      "image/png": "[encoded data removed]",
      "text/plain": [
       "<Figure size 640x480 with 1 Axes>"
      ]
     },
     "metadata": {},
     "output_type": "display_data"
    }
   ],
   "source": [
    "test = pd.DataFrame({\n",
    "    \"portails\" : [\"portail 1 \", \"portail 2\"],\n",
    "    \"nb_dataset/personn\" : [4,3]\n",
    "})\n",
    "\n",
    "sns.barplot(data=test, x=\"portails\",y=\"nb_dataset/personn\")\n",
    "plt.show()"
   ]
  },
  {
   "cell_type": "code",
   "execution_count": 29,
   "metadata": {},
   "outputs": [
    {
     "data": {
      "text/plain": [
       "[0.00021133056977972852, 0.00015634099891841287]"
      ]
     },
     "execution_count": 29,
     "metadata": {},
     "output_type": "execute_result"
    }
   ],
   "source": [
    "# list(mhs_metric_results.keys())\n",
    "\n",
    "list(mhs_metric_results.values())"
   ]
  },
  {
   "cell_type": "code",
   "execution_count": null,
   "metadata": {},
   "outputs": [],
   "source": []
  }
 ],
 "metadata": {
  "kernelspec": {
   "display_name": "Python 3",
   "language": "python",
   "name": "python3"
  },
  "language_info": {
   "codemirror_mode": {
    "name": "ipython",
    "version": 3
   },
   "file_extension": ".py",
   "mimetype": "text/x-python",
   "name": "python",
   "nbconvert_exporter": "python",
   "pygments_lexer": "ipython3",
   "version": "3.10.6"
  },
  "orig_nbformat": 4,
  "vscode": {
   "interpreter": {
    "hash": "916dbcbb3f70747c44a77c7bcd40155683ae19c65e1c03b4aa3499c5328201f1"
   }
  }
 },
 "nbformat": 4,
 "nbformat_minor": 2
}
