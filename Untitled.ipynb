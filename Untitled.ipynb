{
 "cells": [
  {
   "cell_type": "code",
   "execution_count": 1,
   "id": "3a6f7080-b1c9-4157-99ec-1ac5ccc67913",
   "metadata": {
    "execution": {
     "iopub.execute_input": "2023-02-23T17:27:19.160042Z",
     "iopub.status.busy": "2023-02-23T17:27:19.159669Z",
     "iopub.status.idle": "2023-02-23T17:27:19.726482Z",
     "shell.execute_reply": "2023-02-23T17:27:19.725577Z",
     "shell.execute_reply.started": "2023-02-23T17:27:19.160002Z"
    },
    "tags": []
   },
   "outputs": [],
   "source": [
    "from ScrappingPackage.opendatasoftscrapper import Opendatasoftscrapper"
   ]
  },
  {
   "cell_type": "code",
   "execution_count": 2,
   "id": "9b5152ca-75b4-46de-a4a9-06d5b07315a3",
   "metadata": {
    "execution": {
     "iopub.execute_input": "2023-02-23T17:27:19.730349Z",
     "iopub.status.busy": "2023-02-23T17:27:19.729516Z",
     "iopub.status.idle": "2023-02-23T17:28:26.743233Z",
     "shell.execute_reply": "2023-02-23T17:28:26.742169Z",
     "shell.execute_reply.started": "2023-02-23T17:27:19.730303Z"
    },
    "tags": []
   },
   "outputs": [],
   "source": [
    "url  = \"https://data.regionreunion.com/\"\n",
    "url1 = \"https://data.laregion.fr/\"\n",
    "ods_scrap = Opendatasoftscrapper(url = url1,estimated_population = -1)"
   ]
  },
  {
   "cell_type": "code",
   "execution_count": 3,
   "id": "a0136ac6-49dd-42ab-a75f-80416bb81e8e",
   "metadata": {
    "execution": {
     "iopub.execute_input": "2023-02-23T17:28:26.744625Z",
     "iopub.status.busy": "2023-02-23T17:28:26.744261Z",
     "iopub.status.idle": "2023-02-23T17:28:26.763407Z",
     "shell.execute_reply": "2023-02-23T17:28:26.760795Z",
     "shell.execute_reply.started": "2023-02-23T17:28:26.744561Z"
    },
    "tags": []
   },
   "outputs": [
    {
     "data": {
      "text/plain": [
       "['publisher', 'theme', 'features', 'modified', 'keyword']"
      ]
     },
     "execution_count": 3,
     "metadata": {},
     "output_type": "execute_result"
    }
   ],
   "source": [
    "all_facets = ods_scrap.facets.get(\"facets\")\n",
    "[facet[\"name\"] for facet in all_facets]"
   ]
  },
  {
   "cell_type": "code",
   "execution_count": 5,
   "id": "12a76851-b9b9-4ce0-b9e8-ce2f710c6844",
   "metadata": {
    "execution": {
     "iopub.execute_input": "2023-02-23T17:28:36.218851Z",
     "iopub.status.busy": "2023-02-23T17:28:36.217447Z",
     "iopub.status.idle": "2023-02-23T17:28:36.242877Z",
     "shell.execute_reply": "2023-02-23T17:28:36.239864Z",
     "shell.execute_reply.started": "2023-02-23T17:28:36.218590Z"
    },
    "tags": []
   },
   "outputs": [
    {
     "data": {
      "text/plain": [
       "1"
      ]
     },
     "execution_count": 5,
     "metadata": {},
     "output_type": "execute_result"
    }
   ],
   "source": [
    "index = 0 \n",
    "while (index < len(all_facets) and all_facets[index].get(\"name\") != \"theme\"):\n",
    "    index = index + 1\n",
    "    \n",
    "index"
   ]
  },
  {
   "cell_type": "code",
   "execution_count": null,
   "id": "da4ace9b-2747-453e-80bf-701bdd81f951",
   "metadata": {
    "tags": []
   },
   "outputs": [],
   "source": []
  },
  {
   "cell_type": "code",
   "execution_count": null,
   "id": "d73be8d9-e754-4c5b-9c37-11642c968387",
   "metadata": {},
   "outputs": [],
   "source": []
  }
 ],
 "metadata": {
  "kernelspec": {
   "display_name": "Python 3 (ipykernel)",
   "language": "python",
   "name": "python3"
  },
  "language_info": {
   "codemirror_mode": {
    "name": "ipython",
    "version": 3
   },
   "file_extension": ".py",
   "mimetype": "text/x-python",
   "name": "python",
   "nbconvert_exporter": "python",
   "pygments_lexer": "ipython3",
   "version": "3.8.16"
  }
 },
 "nbformat": 4,
 "nbformat_minor": 5
}
